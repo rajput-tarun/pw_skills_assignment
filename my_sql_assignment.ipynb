{
 "cells": [
  {
   "cell_type": "markdown",
   "id": "93ed9e7d",
   "metadata": {},
   "source": [
    "## Q1"
   ]
  },
  {
   "cell_type": "markdown",
   "id": "89ab8d02",
   "metadata": {},
   "source": [
    "A database is a structured collection of data. SQL (Structured Query Language) and NoSQL are two types of database management systems. \n",
    "\n",
    "**SQL Databases:**\n",
    "- Data model: Relational (tabular structure).\n",
    "- Schema: Predefined schema.\n",
    "- Scalability: Typically vertically scalable.\n",
    "- Examples: MySQL, PostgreSQL.\n",
    "\n",
    "**NoSQL Databases:**\n",
    "- Data model: Various (document-oriented, key-value, etc.).\n",
    "- Schema: Typically schema-less.\n",
    "- Scalability: Often horizontally scalable.\n",
    "- Examples: MongoDB, Cassandra, Redis.\n",
    "\n",
    "SQL is suitable for structured data and complex queries, while NoSQL is flexible for unstructured or changing data with scalability needs."
   ]
  },
  {
   "cell_type": "markdown",
   "id": "d53f64e0",
   "metadata": {},
   "source": [
    "## Q2."
   ]
  },
  {
   "cell_type": "markdown",
   "id": "df23feac",
   "metadata": {},
   "source": [
    "**DDL (Data Definition Language):**\n",
    "\n",
    "DDL, or Data Definition Language, is a subset of SQL used for defining and managing the structure of a database. DDL commands are responsible for defining, altering, and dropping database objects such as tables, indexes, and views. The primary DDL commands include CREATE, DROP, ALTER, and TRUNCATE.\n",
    "\n",
    "**1. CREATE:**\n",
    "The CREATE command is used to create a new database object, such as a table. For example:\n",
    "\n",
    "```sql\n",
    "CREATE TABLE employees (\n",
    "    employee_id INT PRIMARY KEY,\n",
    "    first_name VARCHAR(50),\n",
    "    last_name VARCHAR(50),\n",
    "    hire_date DATE\n",
    ");\n",
    "```\n",
    "\n",
    "This SQL statement creates a table named \"employees\" with columns for employee ID, first name, last name, and hire date.\n",
    "\n",
    "**2. DROP:**\n",
    "The DROP command is used to remove an existing database object, such as a table. For example:\n",
    "\n",
    "```sql\n",
    "DROP TABLE employees;\n",
    "```\n",
    "\n",
    "This SQL statement removes the \"employees\" table from the database.\n",
    "\n",
    "**3. ALTER:**\n",
    "The ALTER command is used to modify the structure of an existing database object. For example:\n",
    "\n",
    "```sql\n",
    "ALTER TABLE employees\n",
    "ADD COLUMN department_id INT;\n",
    "```\n",
    "\n",
    "This SQL statement adds a new column, \"department_id,\" to the existing \"employees\" table.\n",
    "\n",
    "**4. TRUNCATE:**\n",
    "The TRUNCATE command is used to remove all rows from a table, but it retains the table structure for future use. For example:\n",
    "\n",
    "```sql\n",
    "TRUNCATE TABLE employees;\n",
    "```\n",
    "\n",
    "This SQL statement removes all records from the \"employees\" table, effectively resetting the data while keeping the table structure intact.\n",
    "\n",
    "In summary, DDL commands (CREATE, DROP, ALTER, TRUNCATE) are crucial for defining, modifying, and managing the structure of a database, allowing developers to create tables, alter their structure, remove tables, and reset data as needed."
   ]
  },
  {
   "cell_type": "markdown",
   "id": "0ab277f5",
   "metadata": {},
   "source": [
    "## Q3"
   ]
  },
  {
   "cell_type": "markdown",
   "id": "fbe5d284",
   "metadata": {},
   "source": [
    "**DML (Data Manipulation Language):**\n",
    "\n",
    "DML, or Data Manipulation Language, is a subset of SQL used for manipulating data stored in the database. DML commands include INSERT, UPDATE, and DELETE, and they are crucial for performing operations on the data within database tables.\n",
    "\n",
    "**1. INSERT:**\n",
    "The INSERT command is used to add new records (rows) into a table. For example:\n",
    "\n",
    "```sql\n",
    "INSERT INTO employees (employee_id, first_name, last_name, hire_date)\n",
    "VALUES (1, 'John', 'Doe', '2022-01-01');\n",
    "```\n",
    "\n",
    "This SQL statement inserts a new record into the \"employees\" table, providing values for the columns \"employee_id,\" \"first_name,\" \"last_name,\" and \"hire_date.\"\n",
    "\n",
    "**2. UPDATE:**\n",
    "The UPDATE command is used to modify existing records in a table. For example:\n",
    "\n",
    "```sql\n",
    "UPDATE employees\n",
    "SET last_name = 'Smith'\n",
    "WHERE employee_id = 1;\n",
    "```\n",
    "\n",
    "This SQL statement updates the \"last_name\" column in the \"employees\" table, changing the value to 'Smith' for the record where \"employee_id\" is 1.\n",
    "\n",
    "**3. DELETE:**\n",
    "The DELETE command is used to remove records from a table based on a specified condition. For example:\n",
    "\n",
    "```sql\n",
    "DELETE FROM employees\n",
    "WHERE employee_id = 1;\n",
    "```\n",
    "\n",
    "This SQL statement deletes the record from the \"employees\" table where \"employee_id\" is 1.\n"
   ]
  },
  {
   "cell_type": "markdown",
   "id": "f9c6ac0a",
   "metadata": {},
   "source": [
    "## Q4."
   ]
  },
  {
   "cell_type": "markdown",
   "id": "ce94668c",
   "metadata": {},
   "source": [
    "**DQL (Data Query Language):**\n",
    "\n",
    "DQL, or Data Query Language, is a subset of SQL used for querying and retrieving data from a database. The primary DQL command is SELECT, which is used to retrieve data from one or more tables.\n",
    "\n",
    "**SELECT:**\n",
    "The SELECT command is used to query the database and retrieve specific data based on specified criteria. It allows you to choose which columns to include in the result set and apply conditions to filter the data. Here's an example:\n",
    "\n",
    "```sql\n",
    "SELECT first_name, last_name, hire_date\n",
    "FROM employees\n",
    "WHERE department_id = 2;\n",
    "```\n"
   ]
  },
  {
   "cell_type": "markdown",
   "id": "33319758",
   "metadata": {},
   "source": [
    "## Q5."
   ]
  },
  {
   "cell_type": "markdown",
   "id": "d0e5bd2e",
   "metadata": {},
   "source": [
    "**Primary Key:**\n",
    "- A primary key is a unique identifier for a record in a database table.\n",
    "- It ensures each row in the table is uniquely identified and cannot have a null or duplicate value.\n",
    "- Typically, the primary key is associated with an indexed column for fast retrieval.\n",
    "- Example: In a table of employees, the \"employee_id\" column can serve as the primary key.\n",
    "\n",
    "**Foreign Key:**\n",
    "- A foreign key is a column or set of columns in a database table that refers to the primary key of another table.\n",
    "- It establishes a link between two tables, creating a relationship.\n",
    "- Foreign keys help maintain referential integrity, ensuring that values in the referencing table correspond to existing values in the referenced table.\n",
    "- Example: In a table of orders, the \"customer_id\" column could be a foreign key referring to the \"customer_id\" primary key in a customers table."
   ]
  },
  {
   "cell_type": "markdown",
   "id": "c6fe83a9",
   "metadata": {},
   "source": [
    "## Q6."
   ]
  },
  {
   "cell_type": "markdown",
   "id": "238d0416",
   "metadata": {},
   "source": [
    "```python\n",
    "import mysql.connector\n",
    "\n",
    "# Establish a connection to the MySQL database\n",
    "connection = mysql.connector.connect(\n",
    "    host=\"your_host\",\n",
    "    user=\"your_user\",\n",
    "    password=\"your_password\",\n",
    "    database=\"your_database\"\n",
    ")\n",
    "\n",
    "# Create a cursor object to interact with the database\n",
    "cursor = connection.cursor()\n",
    "\n",
    "# Execute a SQL query using the execute() method\n",
    "cursor.execute(\"SELECT * FROM your_table\")\n",
    "\n",
    "# Fetch the results of the query\n",
    "results = cursor.fetchall()\n",
    "\n",
    "# Print the results\n",
    "for row in results:\n",
    "    print(row)\n",
    "\n",
    "# Close the cursor and connection\n",
    "cursor.close()\n",
    "connection.close()\n",
    "```\n",
    "\n",
    "**Explanation:**\n",
    "- `cursor()`: The `cursor()` method is used to create a cursor object. A cursor is essential for interacting with the database and executing SQL queries.\n",
    "\n",
    "- `execute()`: The `execute()` method is used to execute a SQL query. You pass the SQL query as a string to this method. In the example, it executes a SELECT query to retrieve all rows from the specified table."
   ]
  },
  {
   "cell_type": "markdown",
   "id": "6bf25e8b",
   "metadata": {},
   "source": [
    "## Q7."
   ]
  },
  {
   "cell_type": "markdown",
   "id": "c1fb239e",
   "metadata": {},
   "source": [
    "The order of execution for SQL clauses in a query is as follows:\n",
    "1. **FROM**\n",
    "2. **WHERE**\n",
    "3. **GROUP BY**\n",
    "4. **HAVING**\n",
    "5. **SELECT**\n",
    "6. **ORDER BY**"
   ]
  },
  {
   "cell_type": "code",
   "execution_count": null,
   "id": "901039a4",
   "metadata": {},
   "outputs": [],
   "source": []
  }
 ],
 "metadata": {
  "kernelspec": {
   "display_name": "Python 3 (ipykernel)",
   "language": "python",
   "name": "python3"
  },
  "language_info": {
   "codemirror_mode": {
    "name": "ipython",
    "version": 3
   },
   "file_extension": ".py",
   "mimetype": "text/x-python",
   "name": "python",
   "nbconvert_exporter": "python",
   "pygments_lexer": "ipython3",
   "version": "3.9.12"
  }
 },
 "nbformat": 4,
 "nbformat_minor": 5
}
