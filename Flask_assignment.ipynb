{
 "cells": [
  {
   "cell_type": "markdown",
   "id": "16066d13",
   "metadata": {},
   "source": [
    "## Q1"
   ]
  },
  {
   "cell_type": "markdown",
   "id": "b74ebfea",
   "metadata": {},
   "source": [
    "Flask is a lightweight and extensible web framework for Python. It is designed to be simple, easy to use, and follows the WSGI (Web Server Gateway Interface) standard. Flask provides the essentials for building web applications without imposing too many restrictions or dependencies, allowing developers to choose the tools they prefer for various components.\n",
    "\n",
    "Advantages of Flask Framework:\n",
    "\n",
    "1. **Lightweight and Simple:** Flask is minimalistic and easy to understand, making it a great choice for small to medium-sized web applications. It doesn't come bundled with unnecessary features, allowing developers to pick and choose components as needed.\n",
    "\n",
    "2. **Flexibility:** Flask gives developers the flexibility to choose the components they want to use, such as database libraries, form validation, and authentication. This flexibility is advantageous for developers who prefer a more modular approach to building web applications.\n",
    "\n",
    "3. **Extensibility:** Flask is designed to be easily extendable. Developers can use Flask extensions to add additional features and integrate with various third-party libraries, enhancing the framework's functionality without bloating the core.\n",
    "\n",
    "4. **Integrated Development Server:** Flask comes with a built-in development server, making it easy to get started with web development. This server is suitable for development purposes, but for production, it is recommended to use a more robust server, such as Gunicorn or uWSGI.\n",
    "\n",
    "5. **Werkzeug and Jinja2:** Flask uses the Werkzeug utility library for handling HTTP requests and responses, as well as the Jinja2 templating engine for rendering HTML templates. These components contribute to the simplicity and efficiency of Flask.\n",
    "\n",
    "6. **Community and Documentation:** Flask has a large and active community, which means there is a wealth of resources, tutorials, and documentation available. This makes it easier for developers to find help and solutions to common problems.\n",
    "\n",
    "7. **RESTful Support:** Flask is well-suited for building RESTful APIs. It provides features and extensions that facilitate the development of RESTful services, making it a popular choice for creating web APIs.\n",
    "\n",
    "8. **Scalability:** While Flask is often used for smaller projects, it can also scale for larger applications when combined with other tools and libraries. The flexibility of Flask allows developers to adapt it to the specific needs of their project.\n"
   ]
  },
  {
   "cell_type": "code",
   "execution_count": 1,
   "id": "5cd30c3f",
   "metadata": {},
   "outputs": [
    {
     "name": "stdout",
     "output_type": "stream",
     "text": [
      " * Serving Flask app \"__main__\" (lazy loading)\n",
      " * Environment: production\n",
      "\u001b[31m   WARNING: This is a development server. Do not use it in a production deployment.\u001b[0m\n",
      "\u001b[2m   Use a production WSGI server instead.\u001b[0m\n",
      " * Debug mode: on\n"
     ]
    },
    {
     "name": "stderr",
     "output_type": "stream",
     "text": [
      " * Restarting with watchdog (windowsapi)\n"
     ]
    },
    {
     "ename": "SystemExit",
     "evalue": "1",
     "output_type": "error",
     "traceback": [
      "An exception has occurred, use %tb to see the full traceback.\n",
      "\u001b[1;31mSystemExit\u001b[0m\u001b[1;31m:\u001b[0m 1\n"
     ]
    },
    {
     "name": "stderr",
     "output_type": "stream",
     "text": [
      "C:\\Users\\TARUN\\anaconda3\\lib\\site-packages\\IPython\\core\\interactiveshell.py:3377: UserWarning: To exit: use 'exit', 'quit', or Ctrl-D.\n",
      "  warn(\"To exit: use 'exit', 'quit', or Ctrl-D.\", stacklevel=1)\n"
     ]
    }
   ],
   "source": [
    "from flask import Flask\n",
    "\n",
    "app = Flask(__name__)\n",
    "\n",
    "@app.route('/')\n",
    "def hello_world():\n",
    "    return 'Hello World!!'\n",
    "\n",
    "if __name__ == '__main__':\n",
    "    app.run(debug=True)\n"
   ]
  },
  {
   "cell_type": "markdown",
   "id": "46c4c408",
   "metadata": {},
   "source": [
    "## Q3"
   ]
  },
  {
   "cell_type": "markdown",
   "id": "2075dc89",
   "metadata": {},
   "source": [
    "In Flask, app routing refers to the process of defining URL patterns and associating them with specific functions or views in your application. It is achieved using the `@app.route` decorator, which allows you to bind a URL endpoint to a Python function (view) that will handle requests to that endpoint. This is a fundamental concept in web development and allows you to create different pages or functionalities within your web application.\n",
    "\n",
    "### Why use app routes in Flask?\n",
    "\n",
    "1. **Modular Structure:** App routes help organize your code into distinct views or pages, making it more modular and maintainable. Each route handles a specific part of the application.\n",
    "\n",
    "2. **URL Structure:** App routes allow you to define a clear and meaningful URL structure for your web application. This makes it easy for users to navigate and understand the different sections of your site.\n",
    "\n",
    "3. **Separation of Concerns:** Routing allows you to separate the concerns of handling HTTP requests and generating responses. Each route function focuses on a specific task, improving code organization and readability.\n",
    "\n",
    "4. **Dynamic Routes:** Flask supports dynamic routes, where parts of the URL can be variable. For example, you can define a route like `/user/<username>` to handle requests for different user profiles.\n",
    "\n",
    "5. **RESTful API Design:** When building RESTful APIs, app routes are crucial for defining the various endpoints that handle different types of requests (GET, POST, PUT, DELETE) and resources."
   ]
  },
  {
   "cell_type": "markdown",
   "id": "43c30216",
   "metadata": {},
   "source": [
    "## Q4"
   ]
  },
  {
   "cell_type": "markdown",
   "id": "7cb5e880",
   "metadata": {},
   "source": [
    "from flask import Flask\n",
    "\n",
    "app = Flask(__name__)\n",
    "\n",
    "# Route for \"/welcome\"\n",
    "@app.route('/welcome')\n",
    "def welcome():\n",
    "    return 'Welcome to ABC Corporation'\n",
    "\n",
    "# Route for \"/\"\n",
    "@app.route('/')\n",
    "def company_details():\n",
    "    return '''\n",
    "    Company Name: ABC Corporation\n",
    "    Location: India\n",
    "    Contact Detail: 999-999-9999\n",
    "    '''\n",
    "\n",
    "if __name__ == '__main__':\n",
    "    app.run(debug=True)\n"
   ]
  },
  {
   "cell_type": "markdown",
   "id": "f97eb77a",
   "metadata": {},
   "source": [
    "## Q5"
   ]
  },
  {
   "cell_type": "markdown",
   "id": "de6a4af5",
   "metadata": {},
   "source": [
    "from flask import Flask, url_for\n",
    "\n",
    "app = Flask(__name__)\n",
    "\n",
    "@app.route('/')\n",
    "def home():\n",
    "    return 'Home Page'\n",
    "\n",
    "@app.route('/about')\n",
    "def about():\n",
    "    return 'About Page'\n",
    "\n",
    "@app.route('/contact')\n",
    "def contact():\n",
    "    return 'Contact Page'\n",
    "\n",
    "if __name__ == '__main__':\n",
    "    with app.test_request_context():\n",
    "        # Generating URLs using url_for\n",
    "        home_url = url_for('home')\n",
    "        about_url = url_for('about')\n",
    "        contact_url = url_for('contact')\n",
    "\n",
    "        print(f'URL for home(): {home_url}')\n",
    "        print(f'URL for about(): {about_url}')\n",
    "        print(f'URL for contact(): {contact_url}')\n"
   ]
  },
  {
   "cell_type": "code",
   "execution_count": null,
   "id": "9f753180",
   "metadata": {},
   "outputs": [],
   "source": []
  }
 ],
 "metadata": {
  "kernelspec": {
   "display_name": "Python 3 (ipykernel)",
   "language": "python",
   "name": "python3"
  },
  "language_info": {
   "codemirror_mode": {
    "name": "ipython",
    "version": 3
   },
   "file_extension": ".py",
   "mimetype": "text/x-python",
   "name": "python",
   "nbconvert_exporter": "python",
   "pygments_lexer": "ipython3",
   "version": "3.9.12"
  }
 },
 "nbformat": 4,
 "nbformat_minor": 5
}
